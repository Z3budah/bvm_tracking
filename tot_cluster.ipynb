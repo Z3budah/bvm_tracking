{
 "cells": [
  {
   "cell_type": "code",
   "execution_count": null,
   "id": "1554dfc1",
   "metadata": {
    "collapsed": false,
    "jupyter": {
     "outputs_hidden": false
    },
    "pycharm": {
     "name": "#%%\n"
    }
   },
   "outputs": [],
   "source": [
    "import numpy as np\n",
    "import os\n",
    "from tensorflow import keras\n",
    "import tensorflow as tf\n",
    "import math\n",
    "import matplotlib.pyplot as plt "
   ]
  },
  {
   "cell_type": "code",
   "execution_count": null,
   "id": "3f67fa75",
   "metadata": {
    "collapsed": false,
    "jupyter": {
     "outputs_hidden": false
    },
    "pycharm": {
     "name": "#%%\n"
    }
   },
   "outputs": [],
   "source": [
    "D = 30\n",
    "K = 7"
   ]
  },
  {
   "cell_type": "code",
   "execution_count": null,
   "id": "1c54cc91",
   "metadata": {
    "collapsed": false,
    "jupyter": {
     "outputs_hidden": false
    },
    "pycharm": {
     "name": "#%%\n"
    }
   },
   "outputs": [],
   "source": [
    "keypoint_dir = \"../action/new_keypoint\"\n",
    "\n",
    "action_pattern = \"normal general movement\"\n",
    "# list of keypoints file paths\n",
    "keypoint_files = sorted(\n",
    "    [\n",
    "        os.path.join(keypoint_dir, fname)\n",
    "        for fname in os.listdir(keypoint_dir)\n",
    "        #if fname.endswith(\".npy\")\n",
    "        if action_pattern in fname\n",
    "    ]\n",
    ")"
   ]
  },
  {
   "cell_type": "code",
   "execution_count": null,
   "id": "d9b6ed6c",
   "metadata": {
    "collapsed": false,
    "jupyter": {
     "outputs_hidden": false
    },
    "pycharm": {
     "name": "#%%\n"
    }
   },
   "outputs": [],
   "source": [
    "keypoint_files"
   ]
  },
  {
   "cell_type": "code",
   "execution_count": null,
   "id": "db497029",
   "metadata": {
    "collapsed": false,
    "jupyter": {
     "outputs_hidden": false
    },
    "pycharm": {
     "name": "#%%\n"
    }
   },
   "outputs": [],
   "source": [
    "np.load(keypoint_files[0]).shape"
   ]
  },
  {
   "cell_type": "code",
   "execution_count": null,
   "id": "13b86be3",
   "metadata": {
    "collapsed": false,
    "jupyter": {
     "outputs_hidden": false
    },
    "pycharm": {
     "name": "#%%\n"
    }
   },
   "outputs": [],
   "source": [
    "fps = 25.00"
   ]
  },
  {
   "cell_type": "code",
   "execution_count": null,
   "id": "b83e11c3",
   "metadata": {
    "collapsed": false,
    "jupyter": {
     "outputs_hidden": false
    },
    "pycharm": {
     "name": "#%%\n"
    }
   },
   "outputs": [],
   "source": [
    "# sequence class to load and vectorize batches of data\n",
    "class Keypoints(keras.utils.Sequence):# iterate images\n",
    "    def __init__(self, frame_batch, keypoint_files):\n",
    "        self.frame_batch = frame_batch\n",
    "        self.files = keypoint_files\n",
    "        self.keypoints = []\n",
    "        for f_path in self.files:\n",
    "            raw_kp = np.load(f_path) \n",
    "            # number of batches this keypoint file will be split to \n",
    "            n_frame_batches = len(raw_kp) // frame_batch\n",
    "            for i in range(n_frame_batches):\n",
    "                # divided the long keypoints sequence to batch_size frames\n",
    "                kp = raw_kp[i*frame_batch:(i+1)*frame_batch,0:14,0:2]\n",
    "                self.keypoints.append(kp) \n",
    "    \n",
    "    def __len__(self):\n",
    "        return len(self.keypoints)\n",
    "    \n",
    "    def encode(self, batch):\n",
    "        frame_batch = self.frame_batch\n",
    "        features = 9\n",
    "        joints = 14\n",
    "        # motion encoder\n",
    "        A = np.zeros((frame_batch, joints, features))\n",
    "        \n",
    "        for j in range(0,joints): # for each joint\n",
    "            for i in range(1,frame_batch):\n",
    "                # displacement \n",
    "      \n",
    "                A[i][j][0],  A[i][j][1]= batch[i][j] - batch[i-1][j]  \n",
    "                A[i][j][2] = math.sqrt(A[i][j][0]**2 + A[i][j][1]**2)\n",
    "\n",
    "                # speed\n",
    "                A[i][j][3],  A[i][j][4] = (batch[i][j] - batc\n",
    "                                           h[i-1][j])*fps \n",
    "                A[i][j][5] = A[i][j][2] * fps\n",
    "\n",
    "                # distance from joint j to spine_base\n",
    "                spine_base = (batch[i][8]+batch[i][11])/2\n",
    "                A[i][j][6], A[i][j][7] = batch[i][j] - spine_base\n",
    "                A[i][j][8] = math.sqrt(A[i][j][6]**2 + A[i][j][7]**2)\n",
    "\n",
    "        return A\n",
    "    \n",
    "    def __getitem__(self, index):\n",
    "        # encoded = []\n",
    "        # for kp in self.keypoints[index*frame_batch : (index+1)*frame_batch]:\n",
    "        #     encoded.append(self.encode(kp)) \n",
    "        # encoded = np.array(encoded)\n",
    "        # print(f\"Generated batch data shape: {encoded.shape}\")\n",
    "        return self.encode(self.keypoints[index])"
   ]
  },
  {
   "cell_type": "code",
   "execution_count": null,
   "id": "bff676ab",
   "metadata": {
    "collapsed": false,
    "jupyter": {
     "outputs_hidden": false
    },
    "pycharm": {
     "name": "#%%\n"
    }
   },
   "outputs": [],
   "source": [
    "# batch_size = 32\n",
    "frame_batch = 256\n",
    "# Instantiate data Sequences for each split\n",
    "data_generator = Keypoints(frame_batch, keypoint_files[0:1])"
   ]
  },
  {
   "cell_type": "code",
   "execution_count": null,
   "id": "0df248b9",
   "metadata": {
    "collapsed": false,
    "jupyter": {
     "outputs_hidden": false
    },
    "pycharm": {
     "name": "#%%\n"
    }
   },
   "outputs": [],
   "source": [
    "data_generator[1].shape"
   ]
  },
  {
   "cell_type": "code",
   "execution_count": null,
   "id": "48673418",
   "metadata": {
    "collapsed": false,
    "jupyter": {
     "outputs_hidden": false
    },
    "pycharm": {
     "name": "#%%\n"
    }
   },
   "outputs": [],
   "source": [
    "class DotLayer(tf.keras.layers.Layer):\n",
    " \n",
    "    def __init__(self, units=8):\n",
    "        super(DotLayer, self).__init__()\n",
    "        self.units = units\n",
    "\n",
    "    def build(self, input_shape):\n",
    "        # initialize the prototype\n",
    "        self.w = self.add_weight(shape=(input_shape[-1], self.units),\n",
    "                               initializer='random_normal',\n",
    "                               trainable=True,\n",
    "                               name='dot_layer')\n",
    "        print(\"initialize the prototype\")\n",
    " \n",
    "    def call(self,inputs):\n",
    "        return tf.matmul(inputs, self.w)\n",
    "\n",
    "    def get_config(self):\n",
    "        return {\"units\": self.units}"
   ]
  },
  {
   "cell_type": "code",
   "execution_count": null,
   "id": "9feaf25c",
   "metadata": {
    "collapsed": false,
    "jupyter": {
     "outputs_hidden": false
    },
    "pycharm": {
     "name": "#%%\n"
    }
   },
   "outputs": [],
   "source": [
    "class MyModel(tf.keras.Model):\n",
    "    # D: the dimension of the embedding features \n",
    "    # K: the number of cluster \n",
    "    # KL_weight: balance weight of the similarity term and the temporal order-preserving term\n",
    "    # SK_inter: the number of Sinkhorn-Knopp iteration\n",
    "    # alpha: weight of temporal coherence loss\n",
    "    def __init__(self, frame_batch, D=30, K=8, KL_weight=0.1, SK_inter=5, alpha=1.0, T=10.0):\n",
    "        super(MyModel, self).__init__()\n",
    "        self.D = D\n",
    "        self.K = K\n",
    "        self.T = T\n",
    "        self.klw = KL_weight\n",
    "        self.nit = SK_inter\n",
    "\n",
    "        self.frame_batch = frame_batch\n",
    "        self.alpha = alpha\n",
    "        # self.model = self.build_model()\n",
    "\n",
    "        # 2-layer MLP   \n",
    "        self.dense1 = tf.keras.layers.Dense(units=2*D, activation='sigmoid')\n",
    "        self.dense2 = tf.keras.layers.Dense(units=D, activation='sigmoid')\n",
    "        self.dot1 = DotLayer()\n",
    "        self.softmax1 = tf.keras.layers.Softmax()\n",
    "\n",
    "\n",
    "    def call(self, inputs):\n",
    "      features = 9\n",
    "      joints = 14\n",
    "      D = self.D\n",
    "      T = self.T\n",
    "      frame_batch = self.frame_batch \n",
    "      x = inputs\n",
    "      x = tf.reshape(x, shape=(-1, joints*features))\n",
    "\n",
    "      x = self.dense1(x)\n",
    "      x = self.dense2(x)\n",
    "\n",
    "      self.Z = x\n",
    "\n",
    "      x = self.dot1(x)\n",
    "      outputs = self.softmax1(x/T)\n",
    "      \n",
    "      return outputs\n",
    "    \n",
    "    def compile(self):\n",
    "        super(MyModel, self).compile()\n",
    "        self.optimizer = tf.keras.optimizers.Adam(learning_rate=1e-3, decay=1e-4)\n",
    "        \n",
    "    # build the encoder network\n",
    "    # def build_model(self):\n",
    "    #     features = 9\n",
    "    #     joints = 14\n",
    "    #     D = self.D\n",
    "    #     batch_size = self.batch_size\n",
    "    #     frame_batch = self.frame_batch \n",
    "    #     # inputs = keras.Input(shape=(joints, features))\n",
    "    #     inputs = keras.Input(shape=(frame_batch, joints, features))\n",
    "    #     x = inputs\n",
    "    #     # x = tf.keras.layers.Flatten()(x)\n",
    "    #     x = tf.reshape(x, shape=(-1, frame_batch, joints*features))\n",
    "        \n",
    "    #     # 2-layer MLP    \n",
    "    #     x = tf.keras.layers.Dense(units=2*D, activation='sigmoid')(x)\n",
    "    #     x = tf.keras.layers.Dense(units=D, activation='sigmoid')(x)\n",
    "        \n",
    "    #     # save the embedding features\n",
    "    #     self.Z = x\n",
    "\n",
    "    #     linear_layer = DotLayer()\n",
    "    #     x = linear_layer(x)\n",
    "    #     # P_ij \n",
    "    #     outputs = tf.keras.layers.Softmax()(x)\n",
    "        \n",
    "    #     return keras.Model(inputs, outputs)\n",
    "        \n",
    "    \n",
    "    def get_prior(self, x):\n",
    "        frame_batch = self.frame_batch\n",
    "        var = tf.math.reduce_variance(x)\n",
    "        std = tf.math.reduce_std(x)\n",
    "\n",
    "        T = []\n",
    "        for i in range(frame_batch):\n",
    "          T_i = []\n",
    "          for j in range(K):\n",
    "            d_ij = abs(i/frame_batch-j/K)/tf.math.sqrt(1/(frame_batch**2)+1/(K**2))\n",
    "            # Gaussian distribution \n",
    "            T_i.append(tf.math.exp(-d_ij**2/(2*var))/std*math.sqrt(2*math.pi))\n",
    "          T.append(T_i)\n",
    "        T = tf.stack(T)\n",
    "        return T\n",
    "        \n",
    "    def temporal_ot(self, x):\n",
    "        Z = self.Z\n",
    "        # C: learnable prototypes of the K clusters\n",
    "        C = self.trainable_variables[-1]\n",
    "        tf.print(tf.math.reduce_max(C))\n",
    "        T = self.get_prior(x)\n",
    "\n",
    "        \n",
    "        frame_batch = self.frame_batch\n",
    "        k_cluster = self.K\n",
    "        # balance weight of the similarity term and the temporal order-preserving term\n",
    "        klw = self.klw\n",
    "        \n",
    "        # Sinkhorn-Knopp Algorithm\n",
    "        v = np.ones((k_cluster,1))\n",
    "        u = np.ones((frame_batch,1))\n",
    "\n",
    "        a = u / frame_batch\n",
    "        b = v / k_cluster \n",
    "        K = tf.math.exp((tf.matmul(Z,C) + klw*tf.math.log(T))/klw) \n",
    "        # nit the number of Sinkhorn-Knopp iteration\n",
    "        for i in range(1,self.nit):\n",
    "        #v = b / np.dot(K.T, u), u = a / np.dot(K, v)\n",
    "          v = b / tf.matmul(tf.transpose(K), u)\n",
    "          u = a / tf.matmul(K, v)\n",
    "\n",
    "        v = tf.squeeze(v)\n",
    "        u = tf.squeeze(u)\n",
    "        \n",
    "        Q_TOT=tf.matmul(tf.linalg.diag(u),tf.matmul(K, tf.linalg.diag(v)))\n",
    "        tf.print(tf.math.reduce_max(Q_TOT))\n",
    "        return tf.stack(Q_TOT)\n",
    "        \n",
    "    def loss_func(self, P, Q):\n",
    "\n",
    "        frame_batch = self.frame_batch\n",
    "        # Cross-Entropy Loss\n",
    "        l_ce = -tf.math.reduce_sum(tf.multiply(Q,tf.math.log(P)))/frame_batch\n",
    "        tf.print(tf.math.reduce_sum(tf.multiply(Q,tf.math.log(P))))\n",
    "        # Temporal Coherence Loss - N pair loss\n",
    "        Z = self.Z\n",
    "        \n",
    "        N = 8\n",
    "        l = int(frame_batch/N)\n",
    "\n",
    "        Z_i = []\n",
    "        Z_positive = []\n",
    "        window_size = 4\n",
    "        # sample z_i\n",
    "        for i in range(N):\n",
    "          index = i*l + np.random.randint(0,l-1,1)\n",
    "          z_i = tf.gather(Z, index, axis=0)\n",
    "          Z_i.append(z_i)\n",
    "          \n",
    "          # calculate window range\n",
    "          min_index = max(0, index - window_size)\n",
    "          max_index = min(frame_batch - 1, index + window_size)\n",
    "          # sample z_postive inside the window\n",
    "          idx_pos = np.random.randint(min_index, max_index,1)\n",
    "          z_ip = tf.squeeze(tf.gather(Z, idx_pos, axis=0))\n",
    "          Z_positive.append(z_ip)\n",
    "\n",
    "        Z_i = tf.stack(Z_i)\n",
    "        Z_positive = tf.stack(Z_positive)\n",
    "\n",
    "\n",
    "        l_tc = 0\n",
    "        for i in range(N):  \n",
    "          denominator = tf.reduce_sum(tf.exp(tf.matmul(Z_i[i],tf.transpose(Z_positive))),axis=1, keepdims=True)\n",
    "          l_tc += tf.squeeze(tf.math.log(tf.exp(tf.matmul(Z_i[i],tf.reshape(Z_positive[i],shape=(self.D,1)))/denominator)))\n",
    "        l_tc = - l_tc/N\n",
    "        tf.print(\"LCE:\", l_ce,\"LTC:\",l_tc)\n",
    "        return l_ce + self.alpha*l_tc\n",
    "        \n",
    "        \n",
    "    def train_step(self, data):\n",
    "        x = data\n",
    "        \n",
    "        with tf.GradientTape() as tape:\n",
    "            P = self(x, training=True)\n",
    "            Q = self.temporal_ot(x)\n",
    "            loss = self.loss_func(P,Q)\n",
    "        # compute gradients\n",
    "        gradients = tape.gradient(loss, self.trainable_variables)\n",
    "        # update weights using the optimizer\n",
    "        self.optimizer.apply_gradients(zip(gradients, self.trainable_variables))\n",
    "        \n",
    "        return {'loss': loss}\n",
    "    def get_config(self):\n",
    "\n",
    "        return {\"frame_batch\": self.frame_batch,\"D\": self.D, \"K\": self.K,\"KL_weight\": self.klw,\"SK_inter\": self.nit,\"alpha\": self.alpha,\"T\": self.T}\n",
    "\n",
    "    @classmethod\n",
    "    def from_config(cls, config):\n",
    "        return cls(**config)"
   ]
  },
  {
   "cell_type": "code",
   "execution_count": 12,
   "id": "27f3e944",
   "metadata": {
    "collapsed": false,
    "jupyter": {
     "outputs_hidden": false
    },
    "pycharm": {
     "name": "#%%\n"
    },
    "tags": []
   },
   "outputs": [],
   "source": [
    "class MyModel(tf.keras.Model):\n",
    "    # D: the dimension of the embedding features \n",
    "    # K: the number of cluster \n",
    "    # KL_weight: balance weight of the similarity term and the temporal order-preserving term\n",
    "    # SK_inter: the number of Sinkhorn-Knopp iteration\n",
    "    # alpha: weight of temporal coherence loss\n",
    "    def __init__(self, frame_batch, D=30, K=8, KL_weight=0.1, SK_inter=5, alpha=1.0, T=10.0):\n",
    "        super(MyModel, self).__init__()\n",
    "        self.D = D\n",
    "        self.K = K\n",
    "        self.T = T\n",
    "        self.klw = KL_weight\n",
    "        self.nit = SK_inter\n",
    "\n",
    "        self.frame_batch = frame_batch\n",
    "        self.alpha = alpha\n",
    "        # self.model = self.build_model()\n",
    "\n",
    "        # 2-layer MLP   \n",
    "        self.dense1 = tf.keras.layers.Dense(units=2*D, activation='sigmoid')\n",
    "        self.dense2 = tf.keras.layers.Dense(units=D, activation='sigmoid')\n",
    "        self.dot1 = DotLayer()\n",
    "        self.softmax1 = tf.keras.layers.Softmax()\n",
    "\n",
    "\n",
    "    def call(self, inputs):\n",
    "      features = 9\n",
    "      joints = 14\n",
    "      D = self.D\n",
    "      T = self.T\n",
    "      frame_batch = self.frame_batch \n",
    "      x = inputs\n",
    "      x = tf.reshape(x, shape=(-1, joints*features))\n",
    "\n",
    "      x = self.dense1(x)\n",
    "      x = self.dense2(x)\n",
    "\n",
    "      self.Z = x\n",
    "\n",
    "      x = self.dot1(x)\n",
    "      outputs = self.softmax1(x/T)\n",
    "      \n",
    "      return outputs\n",
    "    \n",
    "    def compile(self):\n",
    "        super(MyModel, self).compile()\n",
    "        self.optimizer = tf.keras.optimizers.Adam(learning_rate=1e-3, decay=1e-4)\n",
    "        \n",
    "    # build the encoder network\n",
    "    # def build_model(self):\n",
    "    #     features = 9\n",
    "    #     joints = 14\n",
    "    #     D = self.D\n",
    "    #     batch_size = self.batch_size\n",
    "    #     frame_batch = self.frame_batch \n",
    "    #     # inputs = keras.Input(shape=(joints, features))\n",
    "    #     inputs = keras.Input(shape=(frame_batch, joints, features))\n",
    "    #     x = inputs\n",
    "    #     # x = tf.keras.layers.Flatten()(x)\n",
    "    #     x = tf.reshape(x, shape=(-1, frame_batch, joints*features))\n",
    "        \n",
    "    #     # 2-layer MLP    \n",
    "    #     x = tf.keras.layers.Dense(units=2*D, activation='sigmoid')(x)\n",
    "    #     x = tf.keras.layers.Dense(units=D, activation='sigmoid')(x)\n",
    "        \n",
    "    #     # save the embedding features\n",
    "    #     self.Z = x\n",
    "\n",
    "    #     linear_layer = DotLayer()\n",
    "    #     x = linear_layer(x)\n",
    "    #     # P_ij \n",
    "    #     outputs = tf.keras.layers.Softmax()(x)\n",
    "        \n",
    "    #     return keras.Model(inputs, outputs)\n",
    "        \n",
    "    \n",
    "    def get_prior(self, x):\n",
    "        frame_batch = self.frame_batch\n",
    "        var = tf.math.reduce_variance(x)\n",
    "        std = tf.math.reduce_std(x)\n",
    "\n",
    "        T = []\n",
    "        for i in range(frame_batch):\n",
    "          T_i = []\n",
    "          for j in range(K):\n",
    "            d_ij = abs(i/frame_batch-j/K)/tf.math.sqrt(1/(frame_batch**2)+1/(K**2))\n",
    "            # Gaussian distribution \n",
    "            T_i.append(tf.math.exp(-d_ij**2/(2*var))/std*math.sqrt(2*math.pi))\n",
    "          T.append(T_i)\n",
    "        T = tf.stack(T)\n",
    "        return T\n",
    "        \n",
    "    def temporal_ot(self, x):\n",
    "        Z = self.Z\n",
    "        # C: learnable prototypes of the K clusters\n",
    "        C = self.trainable_variables[-1]\n",
    "        tf.print(tf.math.reduce_max(C))\n",
    "        T = self.get_prior(x)\n",
    "\n",
    "        \n",
    "        frame_batch = self.frame_batch\n",
    "        k_cluster = self.K\n",
    "        # balance weight of the similarity term and the temporal order-preserving term\n",
    "        klw = self.klw\n",
    "        \n",
    "        # Sinkhorn-Knopp Algorithm\n",
    "        v = np.ones((k_cluster,1))\n",
    "        u = np.ones((frame_batch,1))\n",
    "\n",
    "        a = u / frame_batch\n",
    "        b = v / k_cluster \n",
    "        K = tf.math.exp((tf.matmul(Z,C) + klw*tf.math.log(T))/klw) \n",
    "        # nit the number of Sinkhorn-Knopp iteration\n",
    "        for i in range(1,self.nit):\n",
    "        #v = b / np.dot(K.T, u), u = a / np.dot(K, v)\n",
    "          v = b / tf.matmul(tf.transpose(K), u)\n",
    "          u = a / tf.matmul(K, v)\n",
    "\n",
    "        v = tf.squeeze(v)\n",
    "        u = tf.squeeze(u)\n",
    "        \n",
    "        Q_TOT=tf.matmul(tf.linalg.diag(u),tf.matmul(K, tf.linalg.diag(v)))\n",
    "        tf.print(tf.math.reduce_max(Q_TOT))\n",
    "        return tf.stack(Q_TOT)\n",
    "        \n",
    "    def loss_func(self, P, Q):\n",
    "\n",
    "        frame_batch = self.frame_batch\n",
    "        # Cross-Entropy Loss\n",
    "        l_ce = -tf.math.reduce_sum(tf.multiply(Q,tf.math.log(P)))/frame_batch\n",
    "        tf.print(tf.math.reduce_sum(tf.multiply(Q,tf.math.log(P))))\n",
    "        # Temporal Coherence Loss - N pair loss\n",
    "        Z = self.Z\n",
    "        \n",
    "        N = 8\n",
    "        l = int(frame_batch/N)\n",
    "\n",
    "        Z_i = []\n",
    "        Z_positive = []\n",
    "        window_size = 4\n",
    "        # sample z_i\n",
    "        for i in range(N):\n",
    "          index = i*l + np.random.randint(0,l-1,1)\n",
    "          z_i = tf.gather(Z, index, axis=0)\n",
    "          Z_i.append(z_i)\n",
    "          \n",
    "          # calculate window range\n",
    "          min_index = max(0, index - window_size)\n",
    "          max_index = min(frame_batch - 1, index + window_size)\n",
    "          # sample z_postive inside the window\n",
    "          idx_pos = np.random.randint(min_index, max_index,1)\n",
    "          z_ip = tf.squeeze(tf.gather(Z, idx_pos, axis=0))\n",
    "          Z_positive.append(z_ip)\n",
    "\n",
    "        Z_i = tf.stack(Z_i)\n",
    "        Z_positive = tf.stack(Z_positive)\n",
    "\n",
    "\n",
    "        l_tc = 0\n",
    "        for i in range(N):  \n",
    "          denominator = tf.reduce_sum(tf.exp(tf.matmul(Z_i[i],tf.transpose(Z_positive))),axis=1, keepdims=True)\n",
    "          l_tc += tf.squeeze(tf.math.log(tf.exp(tf.matmul(Z_i[i],tf.reshape(Z_positive[i],shape=(self.D,1)))/denominator)))\n",
    "        l_tc = - l_tc/N\n",
    "        tf.print(\"LCE:\", l_ce,\"LTC:\",l_tc)\n",
    "        return l_ce + self.alpha*l_tc\n",
    "        \n",
    "        \n",
    "    def train_step(self, data):\n",
    "        x = data\n",
    "        \n",
    "        with tf.GradientTape() as tape:\n",
    "            P = self(x, training=True)\n",
    "            Q = self.temporal_ot(x)\n",
    "            loss = self.loss_func(P,Q)\n",
    "        # compute gradients\n",
    "        gradients = tape.gradient(loss, self.trainable_variables)\n",
    "        # update weights using the optimizer\n",
    "        self.optimizer.apply_gradients(zip(gradients, self.trainable_variables))\n",
    "        \n",
    "        return {'loss': loss}\n",
    "    def get_config(self):\n",
    "\n",
    "        return {\"frame_batch\": self.frame_batch,\"D\": self.D, \"K\": self.K,\"KL_weight\": self.klw,\"SK_inter\": self.nit,\"alpha\": self.alpha,\"T\": self.T}\n",
    "\n",
    "    @classmethod\n",
    "    def from_config(cls, config):\n",
    "        return cls(**config)"
   ]
  },
  {
   "cell_type": "code",
   "execution_count": 15,
   "id": "8ee8d1e0-a00b-482c-a77c-29f4798a8400",
   "metadata": {
    "pycharm": {
     "name": "#%%\n"
    },
    "tags": []
   },
   "outputs": [
    {
     "name": "stdout",
     "output_type": "stream",
     "text": [
      "initialize the prototype\n",
      "Model: \"my_model_1\"\n",
      "_________________________________________________________________\n",
      "Layer (type)                 Output Shape              Param #   \n",
      "=================================================================\n",
      "dense_2 (Dense)              multiple                  7620      \n",
      "_________________________________________________________________\n",
      "dense_3 (Dense)              multiple                  1830      \n",
      "_________________________________________________________________\n",
      "dot_layer_1 (DotLayer)       multiple                  240       \n",
      "_________________________________________________________________\n",
      "softmax_1 (Softmax)          multiple                  0         \n",
      "=================================================================\n",
      "Total params: 9,690\n",
      "Trainable params: 9,690\n",
      "Non-trainable params: 0\n",
      "_________________________________________________________________\n"
     ]
    }
   ],
   "source": [
    "model = MyModel(frame_batch)\n",
    "model.compile()\n",
    "callbacks = [keras.callbacks.ModelCheckpoint(\"motion_tracking.h5\", save_best_only=True)]\n",
    "model.build(input_shape=(frame_batch, 14, 9))\n",
    "model.summary()"
   ]
  },
  {
   "cell_type": "code",
   "execution_count": 18,
   "id": "-B_1H5tO683m",
   "metadata": {
    "colab": {
     "base_uri": "https://localhost:8080/"
    },
    "id": "-B_1H5tO683m",
    "outputId": "f55c67c5-44e6-437b-f0d4-f080a91d523d",
    "pycharm": {
     "name": "#%%\n"
    },
    "tags": []
   },
   "outputs": [
    {
     "name": "stdout",
     "output_type": "stream",
     "text": [
      "Epoch 1/5\n",
      "0.169735909\n",
      "0.000871030614\n",
      "-2.07936835\n",
      "LCE: 0.00812253263 LTC: -0.0447713658\n",
      "1/7 [===>..........................] - ETA: 0s - loss: -0.04400.169925\n",
      "0.000875758\n",
      "-2.0792017\n",
      "LCE: 0.00812188163 LTC: -0.0443792976\n",
      "2/7 [=======>......................] - ETA: 0s - loss: -0.04380.170111343\n",
      "0.00108204782\n",
      "-2.07915974\n",
      "LCE: 0.00812171772 LTC: -0.0454110689\n",
      "3/7 [===========>..................] - ETA: 0s - loss: -0.04400.170296207\n",
      "0.000945484266\n",
      "-2.0791266\n",
      "LCE: 0.00812158827 LTC: -0.0450742841\n",
      "4/7 [================>.............] - ETA: 0s - loss: -0.04410.170476437\n",
      "0.000785999466\n",
      "-2.07929873\n",
      "LCE: 0.00812226068 LTC: -0.0444250777\n",
      "5/7 [====================>.........] - ETA: 0s - loss: -0.04400.170650199\n",
      "0.000896688085\n",
      "-2.07921171\n",
      "LCE: 0.00812192075 LTC: -0.0456749722\n",
      "6/7 [========================>.....] - ETA: 0s - loss: -0.04410.170814648\n",
      "0.000889795832\n",
      "-2.07916975\n",
      "LCE: 0.00812175684 LTC: -0.0466056317\n",
      "7/7 [==============================] - 1s 106ms/step - loss: -0.0446\n",
      "WARNING:tensorflow:Can save best model only with val_loss available, skipping.\n",
      "Epoch 2/5\n",
      "0.170977697\n",
      "0.000905837398\n",
      "-2.07935667\n",
      "LCE: 0.00812248699 LTC: -0.0459426343\n",
      "1/7 [===>..........................] - ETA: 0s - loss: -0.04510.171131596\n",
      "0.00088745635\n",
      "-2.07923865\n",
      "LCE: 0.00812202599 LTC: -0.0458324291\n",
      "2/7 [=======>......................] - ETA: 0s - loss: -0.04510.171280444\n",
      "0.00100818463\n",
      "-2.07917356\n",
      "LCE: 0.00812177174 LTC: -0.0450865626\n",
      "3/7 [===========>..................] - ETA: 0s - loss: -0.04480.171429679\n",
      "0.000813782681\n",
      "-2.07930017\n",
      "LCE: 0.00812226627 LTC: -0.0462120175\n",
      "4/7 [================>.............] - ETA: 0s - loss: -0.04500.171574578\n",
      "0.000884057488\n",
      "-2.07916784\n",
      "LCE: 0.00812174939 LTC: -0.0467135161\n",
      "5/7 [====================>.........] - ETA: 0s - loss: -0.04510.171721146\n",
      "0.000912793446\n",
      "-2.0792\n",
      "LCE: 0.00812187511 LTC: -0.0454398803\n",
      "6/7 [========================>.....] - ETA: 0s - loss: -0.04510.17187275\n",
      "0.00103930943\n",
      "-2.07915211\n",
      "LCE: 0.00812168792 LTC: -0.045836471\n",
      "7/7 [==============================] - 1s 107ms/step - loss: -0.0451\n",
      "WARNING:tensorflow:Can save best model only with val_loss available, skipping.\n",
      "Epoch 3/5\n",
      "0.172027975\n",
      "0.00104151014\n",
      "-2.0790534\n",
      "LCE: 0.00812130235 LTC: -0.0461339951\n",
      "1/7 [===>..........................] - ETA: 0s - loss: -0.04530.172187477\n",
      "0.000914265867\n",
      "-2.07915926\n",
      "LCE: 0.00812171586 LTC: -0.0457290262\n",
      "2/7 [=======>......................] - ETA: 0s - loss: -0.04510.17234838\n",
      "0.000965055544\n",
      "-2.07916784\n",
      "LCE: 0.00812174939 LTC: -0.0469426699\n",
      "3/7 [===========>..................] - ETA: 0s - loss: -0.04550.17251043\n",
      "0.00102811027\n",
      "-2.07909727\n",
      "LCE: 0.00812147371 LTC: -0.0451312512\n",
      "4/7 [================>.............] - ETA: 0s - loss: -0.04520.172670186\n",
      "0.000885063782\n",
      "-2.07925534\n",
      "LCE: 0.00812209118 LTC: -0.0461037755\n",
      "5/7 [====================>.........] - ETA: 0s - loss: -0.04520.172823012\n",
      "0.00081684906\n",
      "-2.07928944\n",
      "LCE: 0.00812222436 LTC: -0.0467024818\n",
      "6/7 [========================>.....] - ETA: 0s - loss: -0.04530.17297256\n",
      "0.000830214471\n",
      "-2.0793004\n",
      "LCE: 0.0081222672 LTC: -0.0456166826\n",
      "7/7 [==============================] - 1s 106ms/step - loss: -0.0452\n",
      "WARNING:tensorflow:Can save best model only with val_loss available, skipping.\n",
      "Epoch 4/5\n",
      "0.17311208\n",
      "0.000821665861\n",
      "-2.07934332\n",
      "LCE: 0.00812243484 LTC: -0.0456316285\n",
      "1/7 [===>..........................] - ETA: 0s - loss: -0.04480.173243687\n",
      "0.0010664016\n",
      "-2.07912064\n",
      "LCE: 0.00812156498 LTC: -0.0457767025\n",
      "2/7 [=======>......................] - ETA: 0s - loss: -0.04490.173376456\n",
      "0.000888486393\n",
      "-2.07914734\n",
      "LCE: 0.00812166929 LTC: -0.0462945327\n",
      "3/7 [===========>..................] - ETA: 0s - loss: -0.04510.173504695\n",
      "0.000827327371\n",
      "-2.07924104\n",
      "LCE: 0.0081220353 LTC: -0.0469224975\n",
      "4/7 [================>.............] - ETA: 0s - loss: -0.04530.173631266\n",
      "0.000931599177\n",
      "-2.07916713\n",
      "LCE: 0.00812174659 LTC: -0.0474675111\n",
      "5/7 [====================>.........] - ETA: 0s - loss: -0.04560.173760116\n",
      "0.000933046918\n",
      "-2.07909894\n",
      "LCE: 0.00812148 LTC: -0.0457845069\n",
      "6/7 [========================>.....] - ETA: 0s - loss: -0.04550.173893929\n",
      "0.00103997625\n",
      "-2.0791564\n",
      "LCE: 0.00812170468 LTC: -0.0466087349\n",
      "7/7 [==============================] - 1s 104ms/step - loss: -0.0456\n",
      "WARNING:tensorflow:Can save best model only with val_loss available, skipping.\n",
      "Epoch 5/5\n",
      "0.174034238\n",
      "0.0010285303\n",
      "-2.07915235\n",
      "LCE: 0.00812168885 LTC: -0.0464007072\n",
      "1/7 [===>..........................] - ETA: 0s - loss: -0.04560.174173817\n",
      "0.000940816943\n",
      "-2.07912374\n",
      "LCE: 0.00812157709 LTC: -0.0459214747\n",
      "2/7 [=======>......................] - ETA: 0s - loss: -0.04530.174318418\n",
      "0.000819996\n",
      "-2.07927704\n",
      "LCE: 0.00812217593 LTC: -0.0470357761\n",
      "3/7 [===========>..................] - ETA: 0s - loss: -0.04560.174459502\n",
      "0.000806507654\n",
      "-2.07923126\n",
      "LCE: 0.00812199712 LTC: -0.0464215577\n",
      "4/7 [================>.............] - ETA: 0s - loss: -0.04560.174595386\n",
      "0.000856442377\n",
      "-2.07912946\n",
      "LCE: 0.00812159944 LTC: -0.0477714166\n",
      "5/7 [====================>.........] - ETA: 0s - loss: -0.04590.174733594\n",
      "0.00104092341\n",
      "-2.0791316\n",
      "LCE: 0.00812160783 LTC: -0.046862334\n",
      "6/7 [========================>.....] - ETA: 0s - loss: -0.04590.174877629\n",
      "0.000800951384\n",
      "-2.07936287\n",
      "LCE: 0.00812251121 LTC: -0.0458195135\n",
      "7/7 [==============================] - 1s 99ms/step - loss: -0.0457\n",
      "WARNING:tensorflow:Can save best model only with val_loss available, skipping.\n"
     ]
    }
   ],
   "source": [
    "history = model.fit(data_generator, epochs=5, callbacks=callbacks)"
   ]
  },
  {
   "cell_type": "code",
   "execution_count": 19,
   "id": "4d2TRuvvlTrH",
   "metadata": {
    "colab": {
     "base_uri": "https://localhost:8080/",
     "height": 452
    },
    "id": "4d2TRuvvlTrH",
    "outputId": "3a14f8ef-cbd8-4ebc-b03e-af8be668c4af",
    "pycharm": {
     "name": "#%%\n"
    },
    "tags": []
   },
   "outputs": [
    {
     "data": {
      "image/png": "[encoded data removed]",
      "text/plain": [
       "<Figure size 640x480 with 1 Axes>"
      ]
     },
     "metadata": {},
     "output_type": "display_data"
    }
   ],
   "source": [
    "loss = history.history['loss']\n",
    "\n",
    "epochs = range(1,6)\n",
    "\n",
    "plt.plot(epochs, loss, 'bo', label='Training loss')\n",
    "plt.title('Training and validation loss')\n",
    "plt.legend()\n",
    "plt.show()"
   ]
  },
  {
   "cell_type": "code",
   "execution_count": 59,
   "id": "eGJ6lBh4gq5z",
   "metadata": {
    "id": "eGJ6lBh4gq5z",
    "pycharm": {
     "name": "#%%\n"
    }
   },
   "outputs": [],
   "source": [
    "# save model\n",
    "model.save('/content/gdrive/MyDrive/Colab Notebooks/logs/my_model')"
   ]
  },
  {
   "cell_type": "code",
   "execution_count": 20,
   "id": "aRXgpjOFVJsf",
   "metadata": {
    "colab": {
     "base_uri": "https://localhost:8080/"
    },
    "id": "aRXgpjOFVJsf",
    "outputId": "34a4f70f-1c94-4a67-88a0-bbe7ef2d8320",
    "pycharm": {
     "name": "#%%\n"
    },
    "tags": []
   },
   "outputs": [],
   "source": [
    "P = model.predict(data_generator[0])"
   ]
  },
  {
   "cell_type": "code",
   "execution_count": 21,
   "id": "MSSYVGgHd3yJ",
   "metadata": {
    "id": "MSSYVGgHd3yJ",
    "pycharm": {
     "name": "#%%\n"
    },
    "tags": []
   },
   "outputs": [],
   "source": [
    "P = np.argmax(P, axis=1)"
   ]
  },
  {
   "cell_type": "code",
   "execution_count": 22,
   "id": "RPn4xsB2fgab",
   "metadata": {
    "colab": {
     "base_uri": "https://localhost:8080/"
    },
    "id": "RPn4xsB2fgab",
    "outputId": "46ab21b7-9129-43f4-a1ac-9696b753a513",
    "pycharm": {
     "name": "#%%\n"
    },
    "tags": []
   },
   "outputs": [
    {
     "data": {
      "text/plain": [
       "5.0390625"
      ]
     },
     "execution_count": 22,
     "metadata": {},
     "output_type": "execute_result"
    }
   ],
   "source": [
    "np.mean(P)"
   ]
  },
  {
   "cell_type": "code",
   "execution_count": 23,
   "id": "sTAngD-9fiTX",
   "metadata": {
    "colab": {
     "base_uri": "https://localhost:8080/"
    },
    "id": "sTAngD-9fiTX",
    "outputId": "7dffad7b-64c3-4a3c-8ae1-8c42e23c12d7",
    "pycharm": {
     "name": "#%%\n"
    },
    "tags": []
   },
   "outputs": [
    {
     "data": {
      "text/plain": [
       "array([5, 5, 5, 5, 5, 5, 5, 5, 5, 5, 5, 5, 5, 5, 5, 5, 5, 5, 5, 5, 5, 5,\n",
       "       5, 5, 5, 5, 5, 5, 5, 5, 5, 5, 5, 5, 5, 5, 7, 5, 5, 5, 5, 5, 5, 5,\n",
       "       5, 5, 5, 5, 5, 5, 5, 5, 5, 5, 5, 5, 5, 5, 5, 5, 5, 5, 7, 5, 5, 5,\n",
       "       5, 5, 5, 5, 5, 5, 5, 5, 5, 5, 5, 5, 5, 5, 5, 5, 5, 5, 5, 5, 5, 5,\n",
       "       5, 5, 5, 5, 5, 5, 5, 5, 5, 5, 5, 5, 5, 5, 5, 5, 5, 5, 5, 5, 5, 5,\n",
       "       5, 5, 5, 5, 5, 5, 5, 5, 5, 5, 5, 5, 5, 5, 5, 5, 5, 5, 5, 5, 5, 5,\n",
       "       5, 5, 5, 5, 5, 5, 7, 5, 5, 5, 5, 5, 5, 5, 5, 5, 5, 5, 5, 5, 5, 5,\n",
       "       5, 5, 5, 5, 5, 5, 5, 5, 5, 5, 5, 5, 5, 5, 5, 5, 5, 5, 5, 5, 5, 5,\n",
       "       5, 5, 5, 5, 5, 5, 5, 5, 5, 5, 5, 5, 5, 5, 5, 5, 5, 5, 5, 5, 5, 5,\n",
       "       5, 5, 5, 5, 5, 5, 5, 5, 5, 5, 5, 5, 5, 5, 5, 5, 5, 5, 5, 5, 5, 5,\n",
       "       5, 5, 5, 5, 5, 5, 5, 5, 5, 5, 5, 5, 5, 5, 5, 5, 5, 5, 5, 5, 5, 5,\n",
       "       5, 5, 5, 7, 5, 5, 5, 5, 5, 5, 5, 5, 7, 5], dtype=int64)"
      ]
     },
     "execution_count": 23,
     "metadata": {},
     "output_type": "execute_result"
    }
   ],
   "source": [
    "P"
   ]
  },
  {
   "cell_type": "code",
   "execution_count": null,
   "id": "MNPlTgJN52sR",
   "metadata": {
    "id": "MNPlTgJN52sR",
    "pycharm": {
     "name": "#%%\n"
    }
   },
   "outputs": [],
   "source": []
  }
 ],
 "metadata": {
  "accelerator": "GPU",
  "colab": {
   "provenance": []
  },
  "gpuClass": "premium",
  "kernelspec": {
   "display_name": "Python 3 (ipykernel)",
   "language": "python",
   "name": "python3"
  },
  "language_info": {
   "codemirror_mode": {
    "name": "ipython",
    "version": 3
   },
   "file_extension": ".py",
   "mimetype": "text/x-python",
   "name": "python",
   "nbconvert_exporter": "python",
   "pygments_lexer": "ipython3",
   "version": "3.8.16"
  }
 },
 "nbformat": 4,
 "nbformat_minor": 5
}